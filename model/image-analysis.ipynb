{
 "cells": [
  {
   "cell_type": "markdown",
   "id": "ef8bf807-c807-4ff1-b75f-b5eea17624a9",
   "metadata": {},
   "source": [
    "# datathon (IBM) 19-Oct-2024\n",
    "## treetastic\n",
    "\n",
    "Helps to decide where to plant trees in cities and parks based on one\n",
    "or more images.\n",
    "\n",
    "### purpose\n",
    "\n",
    "- Noise reduction\n",
    "- Air quality\n",
    "- Aesthetics\n",
    "- Mental health\n",
    "- Community space\n",
    "\n",
    "### workflow\n",
    "\n",
    "1. Image (geotagged) and budget provided\n",
    "    - Images should look down the middle of street\n",
    "2. Images passed through API to Python function\n",
    "3. Images analysed and determines list of ideal pixels for new trees\n",
    "    - Assigned with score for improvement to area\n",
    "4. Program iteratively decides which trees are best for an area\n",
    "5. List of trees and images are returned to the interface\n",
    "\n",
    "### tech stack\n",
    "\n",
    "- Python (interacting with AI)\n",
    "    - OpenCV for image analysis"
   ]
  },
  {
   "cell_type": "markdown",
   "id": "17b3082a-7cc5-4193-b1e8-1dc083fe5e26",
   "metadata": {},
   "source": [
    "### Task 1: Image analysis\n",
    "Using the OpenCV library"
   ]
  },
  {
   "cell_type": "code",
   "execution_count": 1,
   "id": "c01e85df-3a04-497a-bc00-5ee9caed8825",
   "metadata": {},
   "outputs": [
    {
     "name": "stderr",
     "output_type": "stream",
     "text": [
      "2024-10-19 13:55:22.183 Python[86514:7363891] +[IMKClient subclass]: chose IMKClient_Legacy\n",
      "2024-10-19 13:55:22.183 Python[86514:7363891] +[IMKInputSession subclass]: chose IMKInputSession_Legacy\n"
     ]
    }
   ],
   "source": [
    "from os import listdir\n",
    "from os.path import isfile, join\n",
    "import cv2\n",
    "\n",
    "# find the files\n",
    "local_path = \"/Users/jayambadkar/Library/CloudStorage/OneDrive-ImperialCollegeLondon/Personal/Datathon/Photos\"\n",
    "getPhotoNames = [f for f in listdir(local_path) if isfile(join(local_path, f))]\n",
    "\n",
    "# read images with library and store in a list\n",
    "images = [cv2.imread(join(local_path, im_path)) for im_path in getPhotoNames]\n",
    "cv2.imshow('im', images[0])\n",
    "cv2.waitKey(0)\n",
    "cv2.destroyAllWindows()"
   ]
  },
  {
   "cell_type": "code",
   "execution_count": null,
   "id": "7055a1c2-991e-462d-9f6e-da63e0341a40",
   "metadata": {},
   "outputs": [],
   "source": []
  }
 ],
 "metadata": {
  "kernelspec": {
   "display_name": "Python 3 (ipykernel)",
   "language": "python",
   "name": "python3"
  },
  "language_info": {
   "codemirror_mode": {
    "name": "ipython",
    "version": 3
   },
   "file_extension": ".py",
   "mimetype": "text/x-python",
   "name": "python",
   "nbconvert_exporter": "python",
   "pygments_lexer": "ipython3",
   "version": "3.12.6"
  }
 },
 "nbformat": 4,
 "nbformat_minor": 5
}
