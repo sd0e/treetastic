{
 "cells": [
  {
   "cell_type": "markdown",
   "id": "ef8bf807-c807-4ff1-b75f-b5eea17624a9",
   "metadata": {},
   "source": [
    "# datathon (IBM) 19-Oct-2024\n",
    "## treetastic\n",
    "\n",
    "Helps to decide where to plant trees in cities and parks based on one\n",
    "or more images.\n",
    "\n",
    "### purpose\n",
    "\n",
    "- Noise reduction\n",
    "- Air quality\n",
    "- Aesthetics\n",
    "- Mental health\n",
    "- Community space\n",
    "\n",
    "### workflow\n",
    "\n",
    "1. Image (geotagged) and budget provided\n",
    "    - Images should look down the middle of street\n",
    "2. Images passed through API to Python function\n",
    "3. Images analysed and determines list of ideal pixels for new trees\n",
    "    - Assigned with score for improvement to area\n",
    "4. Program iteratively decides which trees are best for an area\n",
    "5. List of trees and images are returned to the interface\n",
    "\n",
    "### tech stack\n",
    "\n",
    "- Python (interacting with AI)\n",
    "    - OpenCV for image analysis"
   ]
  },
  {
   "cell_type": "markdown",
   "id": "17b3082a-7cc5-4193-b1e8-1dc083fe5e26",
   "metadata": {},
   "source": [
    "### Task 1: Image analysis\n",
    "Using the OpenCV library"
   ]
  },
  {
   "cell_type": "code",
   "execution_count": 29,
   "id": "c01e85df-3a04-497a-bc00-5ee9caed8825",
   "metadata": {
    "scrolled": true
   },
   "outputs": [],
   "source": [
    "from os import listdir\n",
    "from os.path import isfile, join\n",
    "import cv2\n",
    "import matplotlib.pyplot as plt\n",
    "\n",
    "# find the files\n",
    "local_path = \"/Users/jayambadkar/Library/CloudStorage/OneDrive-ImperialCollegeLondon/Personal/Datathon/Photos\"\n",
    "getFullPhotoNames = [join(local_path, f) for f in listdir(local_path) if isfile(join(local_path, f))]\n"
   ]
  },
  {
   "cell_type": "code",
   "execution_count": 30,
   "id": "4a63d593-fd8d-4ecc-8753-7ea9c542c5df",
   "metadata": {},
   "outputs": [],
   "source": [
    "\n",
    "# read images as greyscale with library and store in a list\n",
    "# images = [[cv2.imread(join(local_path, im_path), cv2.IMREAD_GRAYSCALE), im_path] for im_path in getFullPhotoNames]\n"
   ]
  },
  {
   "cell_type": "markdown",
   "id": "e1e1ceb0-f51e-41db-8163-38270ab3c364",
   "metadata": {},
   "source": [
    "### Post-processing\n",
    "The ML model now outputs the space and buildings based on an input image.\n",
    "\n",
    "So we are free to continue."
   ]
  },
  {
   "cell_type": "code",
   "execution_count": 58,
   "id": "f69bb47f-2312-4401-98e2-d3dd52534e38",
   "metadata": {},
   "outputs": [],
   "source": [
    "from trees import Tree, getTreeTypes\n",
    "species = trees.getTreeTypes()\n"
   ]
  },
  {
   "cell_type": "code",
   "execution_count": 84,
   "id": "6b4bf509-3d07-4291-9274-29e51e5f27ac",
   "metadata": {},
   "outputs": [],
   "source": [
    "from nearbyPollution import nearbyPollution\n",
    "\n",
    "\n",
    "def giveTreeLocationInPic(imagetextFilePath, imageFilePath):\n",
    "    if (nearbyPollution < 3):\n",
    "        return []\n",
    "    lines = []\n",
    "    with open(imagetextFile, 'r') as file:\n",
    "        lines = file.readlines()\n",
    "    newlines = []\n",
    "    for line in lines:\n",
    "        newlines.append(line.strip(\"\\n\"))\n",
    "    newlines = [[float(x) for x in l.split(\" \")] for l in newlines]\n",
    "    \n",
    "    # ok so each identified region is ready to be processed\n",
    "    # [0] is type (0=building, 1=tree, 2=space),\n",
    "    # [1] = centre x, [2] = centre y, [3]=width, [4]=height\n",
    "\n",
    "    existingTrees, buildingsAround = 0\n",
    "    possTrees= [] # list of lists, with each tree pos given by [x, y, type]\n",
    "    cost = 0\n",
    "    \n",
    "    for region in newlines:\n",
    "        if (region[0] == 0):\n",
    "            buildingsAround += 1\n",
    "        elif (region[0] == 1):\n",
    "            existingTrees += 1\n",
    "        else:\n",
    "            for t in range(len(species)-1, -1):\n",
    "                if (species[t].width < region.width and species[t].height < region.height):\n",
    "                    possTrees.append([region[1], region[2], species[t].name])\n",
    "                    cost += species[t].cost\n",
    "                    break\n",
    "            \n",
    "    if (existingTrees > len(possTrees)):\n",
    "        return []\n",
    "\n",
    "    print(f\"Net benefit for {imageFilePath} is {buildingsAround * len(possTrees)} at a cost of approximately £{cost}.\\nReturned the positions and types of the relevant recommended trees.\")\n",
    "    return [possTrees, cost, buildingsAround * len(possTrees)]\n"
   ]
  },
  {
   "cell_type": "code",
   "execution_count": null,
   "id": "ae3735c4-3705-401c-8cfc-803b169b80cb",
   "metadata": {},
   "outputs": [],
   "source": []
  }
 ],
 "metadata": {
  "kernelspec": {
   "display_name": "Python 3 (ipykernel)",
   "language": "python",
   "name": "python3"
  },
  "language_info": {
   "codemirror_mode": {
    "name": "ipython",
    "version": 3
   },
   "file_extension": ".py",
   "mimetype": "text/x-python",
   "name": "python",
   "nbconvert_exporter": "python",
   "pygments_lexer": "ipython3",
   "version": "3.12.6"
  }
 },
 "nbformat": 4,
 "nbformat_minor": 5
}
